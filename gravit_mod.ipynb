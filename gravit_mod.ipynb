{
 "cells": [
  {
   "cell_type": "markdown",
   "id": "08259260-d197-4ac7-a410-f82e2bdafe68",
   "metadata": {},
   "source": [
    "### Notebook to compute travel demand with Gravitational Model and travel weights using LOGIT model"
   ]
  },
  {
   "cell_type": "markdown",
   "id": "e6e7cb00-5c4c-4713-8283-2b7c61c6947a",
   "metadata": {},
   "source": [
    "#### Initial data"
   ]
  },
  {
   "cell_type": "code",
   "execution_count": 8,
   "id": "5de2baa4-40ee-4421-acbd-13b4468861da",
   "metadata": {},
   "outputs": [],
   "source": [
    "# number of travels passed as a matrix with produced travels on lines and attracted ones on columns\n",
    "\n",
    "travs = [[40, 110, 150],\n",
    "         [50, 20, 30],\n",
    "         [110, 30, 10]]\n",
    "\n",
    "# the matching friction factors, same arrangement\n",
    "\n",
    "ffs = [[0.753, 1.597, 0.753],\n",
    "       [0.987, 0.753, 0.765],\n",
    "       [1.597, 0.765, 0.753]]\n",
    "\n",
    "# neutral calibration coefficients\n",
    "\n",
    "k_ij0 = [[1, 1, 1],\n",
    "         [1, 1, 1],\n",
    "         [1, 1, 1]]\n",
    "\n",
    "# auto travels cost\n",
    "\n",
    "tca = [[0.5, 1, 1.4],\n",
    "       [1.2, 0.8, 1.2],\n",
    "       [1.7, 1.5, 0.7]]\n",
    "\n",
    "# transit travels cost\n",
    "\n",
    "tct = [[1, 1.5, 2],\n",
    "       [1.8, 1.2, 1.9],\n",
    "       [1.7, 1.5, 0.7]]\n",
    "\n",
    "# auto travels duration\n",
    "\n",
    "tda = [[3, 12, 7],\n",
    "       [13, 3, 19],\n",
    "       [9, 16, 4]]\n",
    "\n",
    "# transit travels duration\n",
    "\n",
    "tdt = [[15, 5, 12],\n",
    "       [15, 6, 26],\n",
    "       [20, 21, 8]]\n",
    "\n",
    "# the future friction factors\n",
    "\n",
    "ffs_f = [[0.753, 0.987, 1.597],\n",
    "         [0.987, 0.753, 0.765],\n",
    "         [1.597, 0.765, 0.753]]\n",
    "\n",
    "# the future produced travels\n",
    "\n",
    "P_is = [750, 580, 480]\n",
    "\n",
    "# the future attracted travels\n",
    "\n",
    "A_js = [722, 786, 302]"
   ]
  },
  {
   "cell_type": "code",
   "execution_count": 9,
   "id": "da011a36-54cb-4efa-b075-a07c06119b2f",
   "metadata": {},
   "outputs": [],
   "source": [
    "# hist travels matrix AET\n",
    "travs_aet = [[120, 60],\n",
    "             [80, 40]]\n",
    "\n",
    "# friction factors matrix AET\n",
    "ffs_aet = [[0.852, 1.387],\n",
    "           [0.796, 0.788]]\n",
    "\n",
    "# calibration coeffs matrix for hist travels AET\n",
    "k_ij0_aet = [[1, 1],\n",
    "             [1, 1]]\n",
    "\n",
    "# auto travels cost AET\n",
    "\n",
    "tca_aet = [[0.5, 0.5],\n",
    "           [0.8, 2.1]]\n",
    "\n",
    "# transit travels cost AET\n",
    "\n",
    "tct_aet = [[1, 1.5],\n",
    "           [1.2, 1.6]]\n",
    "\n",
    "# auto travels duration AET\n",
    "\n",
    "tda_aet = [[3, 9],\n",
    "           [11, 3]]\n",
    "\n",
    "# transit travels duration AET\n",
    "\n",
    "tdt_aet = [[15, 6],\n",
    "           [16, 6]]"
   ]
  },
  {
   "cell_type": "markdown",
   "id": "1c610ee4-2457-4449-a4bb-75f826339e35",
   "metadata": {},
   "source": [
    "#### Class to compute the travels using Gravitational Model"
   ]
  },
  {
   "cell_type": "code",
   "execution_count": 10,
   "id": "1a64ac2f-ebb0-457f-af53-a178ea432bff",
   "metadata": {},
   "outputs": [],
   "source": [
    "class GravitMod:\n",
    "    def __init__(self, travs, ffs, k_ijs, P_is, A_js):\n",
    "        self.travs = travs\n",
    "        self.ffs = ffs\n",
    "        self.k_ijs = k_ijs\n",
    "        self.P_is = P_is\n",
    "        self.A_js = A_js\n",
    "\n",
    "    \n",
    "    def transp_mat(mat):\n",
    "        \"\"\"\n",
    "        Method to transpose a squared matrix.\n",
    "        Takes as input the matrix, returns the transpose, same shape.\n",
    "        \"\"\"\n",
    "        # check for same number of rows and columns (square matrix)\n",
    "        if(len(mat) != len(mat[0])):\n",
    "            print(\"The matrix is not squared. Please provide a squared matrix.\")\n",
    "            exit()\n",
    "\n",
    "        # transpose the matrix\n",
    "        transp = list(zip(*mat))\n",
    "\n",
    "        return [list(sublist) for sublist in transp]\n",
    "\n",
    "    \n",
    "    def sum_mat(mat):\n",
    "        \"\"\"\n",
    "        Method to compute the sum of rows of a squared matrix.\n",
    "        Takes as input the matrix, returns the sum of rows.\n",
    "        \"\"\"\n",
    "\n",
    "        if(len(mat) != len(mat[0])):\n",
    "            print(\"The matrix is not squared. Please provide a squared matrix.\")\n",
    "            exit()\n",
    "\n",
    "        sum_mat = []    # empty list to store the sums\n",
    "\n",
    "        for row in mat:\n",
    "            sum_mat.append(sum(row))\n",
    "\n",
    "        return sum_mat\n",
    "    \n",
    "    \n",
    "    def formula(s_Pi, s_Aj, ffs, k_ijs, travs):\n",
    "        \"\"\"\n",
    "        Method to apply the Gravitational Model formula.\n",
    "        Takes as inputs the sum of produced, respectively attracted travels,\n",
    "        the matrix of friction factors, the matrix of calibration coefficients,\n",
    "        and the initial travels matrix.\n",
    "        Returns the squared matrix of computed travels.\n",
    "        \"\"\"\n",
    "        \n",
    "        gvals_init = []    # to store computed values\n",
    "        for i in range(len(travs)):\n",
    "            pdsum = 0\n",
    "            for j1, j2 in zip(s_Aj, ffs[i]):\n",
    "                pdsum = pdsum + j1 * j2\n",
    "            for k1 in range(len(ffs[i])):\n",
    "                gvals_init.append((s_Pi[i] * ffs[i][k1] * s_Aj[k1] * k_ijs[i][k1] / pdsum))\n",
    "\n",
    "        return gvals_init\n",
    "        \n",
    "    \n",
    "    def rnd(mat, trail=0):\n",
    "        \"\"\"\n",
    "        Method to round the travels raw computed with Gravitational Model.\n",
    "        Takes as input the single row matrix, returns rounded values, same shape.\n",
    "        \"\"\"\n",
    "        mat_r = []\n",
    "        for item in mat:\n",
    "            mat_r.append(round(item, trail))\n",
    "\n",
    "        return mat_r\n",
    "    \n",
    "    def mat_grp(mat, tlen):\n",
    "        \"\"\"\n",
    "        Method to group the rounded single row matrix into a squared one.\n",
    "        Takes as input the single row matrix of rounded travels and\n",
    "        the dimension of the squared one.\n",
    "        Returns the squared matrix of travels obtained with\n",
    "        Gravitational Model.\n",
    "        \"\"\"\n",
    "        return [mat[i:i + tlen] for i in range(0, len(mat), tlen)]\n",
    "    \n",
    "    \n",
    "    def gravmod_init(travs, ffs, k_ijs):\n",
    "        \"\"\"\n",
    "        Method to compute gravitational model values in order to determine the\n",
    "        calibration factors.\n",
    "        Takes as input the travels, friction factors and calibration\n",
    "        coefficients matrices.\n",
    "        Returns a matrix with the computed travels.\n",
    "        \"\"\"\n",
    "    \n",
    "        # check if the matrices have the same shape\n",
    "        if(len(travs) != len(ffs) or (len(travs) != len(k_ijs))):\n",
    "            print(\"The matrices doesn't match. Please fix it.\")\n",
    "            exit()\n",
    "    \n",
    "        # transpose the travels and friction factors matrices\n",
    "        travs_t = GravitMod.transp_mat(travs)\n",
    "        ffs_t = GravitMod.transp_mat(ffs)\n",
    "        #print(travs_t)\n",
    "    \n",
    "        # get attracted travels sums\n",
    "        s_Aj = GravitMod.sum_mat(travs_t)\n",
    "\n",
    "        # get produced travels sums\n",
    "        s_Pi = GravitMod.sum_mat(travs)\n",
    "    \n",
    "        # compute travels with gravitational model\n",
    "        gvals_init = GravitMod.formula(s_Pi, s_Aj, ffs, k_ijs, travs)\n",
    "        print(gvals_init)\n",
    "\n",
    "        # round the computed single row matrix\n",
    "        gvals_init_r = GravitMod.rnd(gvals_init)\n",
    "    \n",
    "        # group flatten list 'gvals_init_r' as a matrix\n",
    "        gvals_init_m = GravitMod.mat_grp(gvals_init_r, len(travs))\n",
    "        \n",
    "        return gvals_init_m\n",
    "\n",
    "    \n",
    "    def gravmod_fin(ffs, k_ijs, P_is, A_js, travs):\n",
    "        \"\"\"\n",
    "        Method to compute future travels using gravitational model.\n",
    "        Takes as inputs the future friction factors matrix, the previously\n",
    "        computed calibration coefficients matrix, the matrix of produced\n",
    "        travels, the matrix of attracted travels and historical travels\n",
    "        matrix (for shape/number of total travels).\n",
    "        Returns a matrix with future travels determined with gravitational\n",
    "        model.\n",
    "        \"\"\"\n",
    "        \n",
    "        # check if the matrices have the same shape\n",
    "        if(len(k_ijs) != len(ffs) or (len(k_ijs) != len(P_is)) or \\\n",
    "           (len(k_ijs) != len(A_js))):\n",
    "            print(\"The matrices doesn't match. Please fix it.\")\n",
    "            exit()\n",
    "    \n",
    "        # compute travels with gravitational model\n",
    "        gvals_fin = GravitMod.formula(P_is, A_js, ffs, k_ijs, travs)\n",
    "    \n",
    "        # round the number of travels\n",
    "        gvals_fin_r = GravitMod.rnd(gvals_fin)\n",
    "\n",
    "        # group flatten list 'gvals_fin_r' as a matrix\n",
    "        gvals_fin_m = GravitMod.mat_grp(gvals_fin_r, len(travs))\n",
    "\n",
    "        return gvals_fin_m"
   ]
  },
  {
   "cell_type": "code",
   "execution_count": 11,
   "id": "42fa2808-47fa-47a8-8aef-1aaae914e4b4",
   "metadata": {},
   "outputs": [
    {
     "name": "stdout",
     "output_type": "stream",
     "text": [
      "[82.26661082685409, 139.5801088876345, 78.15328028551139, 42.613820348423026, 26.00867819441746, 31.37750145715951, 81.9156393728521, 31.391591293791787, 36.69276933335614]\n",
      "Returned from gravmod_init method,  [[82.0, 140.0, 78.0], [43.0, 26.0, 31.0], [82.0, 31.0, 37.0]] \n",
      "\n"
     ]
    }
   ],
   "source": [
    "# compute and print travels using Gravitational Model on historical\n",
    "# data for later calibration coefficients determination\n",
    "gvalsr = GravitMod.gravmod_init(travs, ffs, k_ij0)\n",
    "print(\"Returned from gravmod_init method, \", gvalsr, '\\n')"
   ]
  },
  {
   "cell_type": "code",
   "execution_count": 12,
   "id": "c4af71ca-e289-47b7-8fc1-60dfe0be3a9e",
   "metadata": {},
   "outputs": [
    {
     "name": "stdout",
     "output_type": "stream",
     "text": [
      "[99.23002264639274, 80.76997735360725, 80.26890756302522, 39.73109243697479]\n",
      "Returned from gravmod_init method (AET),  [[99.0, 81.0], [80.0, 40.0]] \n",
      "\n"
     ]
    }
   ],
   "source": [
    "# compute and print travels using Gravitational Model on historical\n",
    "# data for later calibration coefficients determination (AET)\n",
    "#print(travs_aet)\n",
    "#print(ffs_aet)\n",
    "#print(k_ij0_aet)\n",
    "gvalsr_aet = GravitMod.gravmod_init(travs_aet, ffs_aet, k_ij0_aet)\n",
    "print(\"Returned from gravmod_init method (AET), \", gvalsr_aet, '\\n')"
   ]
  },
  {
   "cell_type": "markdown",
   "id": "5d7610df-05f6-4d28-abeb-f11dd2c1506c",
   "metadata": {},
   "source": [
    "#### Class to adjust the travels computed with Gravitational Model"
   ]
  },
  {
   "cell_type": "code",
   "execution_count": 13,
   "id": "2a8138a6-48d4-44fb-bede-e7a92e9ac958",
   "metadata": {},
   "outputs": [],
   "source": [
    "class IterAdj:\n",
    "    def __init__(self, travs, travsc, tlr):\n",
    "        self.travs = travs\n",
    "        self.travsc = travsc\n",
    "        self.tlr = tlr\n",
    "\n",
    "    def comp(s_ih, s_ic, tlr):\n",
    "        \"\"\"\n",
    "        Method to compare two values, within tolerance.\n",
    "        Takes as inputs the lists of to be compared values\n",
    "        and the precision/tolerance.\n",
    "        Returns True or False.\n",
    "        \"\"\"\n",
    "            \n",
    "        # set a flag\n",
    "        flag = True\n",
    "\n",
    "        for ih, ic in zip(s_ih, s_ic):\n",
    "            if(abs(ih - ic) / ih >= tlr): \n",
    "                flag = False\n",
    "                break\n",
    "\n",
    "        return flag\n",
    "    \n",
    "    def iter_adj_in(travs, travsc, tlr=0.01):\n",
    "        \"\"\"\n",
    "        Method to iteratively adjust travels computed with gravitational model.\n",
    "        Takes as input the observed (historical) travels,the computed\n",
    "        ones, in the form of matrices and the precision (tolerance) of\n",
    "        adjustment.\n",
    "        Returns a matrix with adjusted travels.\n",
    "        \"\"\"\n",
    "    \n",
    "        # check if the matrices have the same shape\n",
    "        if(len(travs) != len(travsc)):\n",
    "            print(\"The matrices doesn't match. Please fix it.\")\n",
    "            exit()\n",
    "        \n",
    "        # get produced travels sums on observed travels\n",
    "        s_Pih = GravitMod.sum_mat(travs)\n",
    "        \n",
    "        # transpose the observed travels matrix\n",
    "        Ajh = GravitMod.transp_mat(travs)\n",
    "        \n",
    "        # get attracted travels sums on observed travels\n",
    "        s_Ajh = GravitMod.sum_mat(Ajh)\n",
    "\n",
    "        cmp_flg = False  # comparison flag to govern the following cycle\n",
    "        i = 0   # produced passes counter\n",
    "        j = 0   # attracted passes counter\n",
    "\n",
    "        while(cmp_flg == False):\n",
    "                       \n",
    "            # get produced travels sums on computed travels\n",
    "            s_Pic = GravitMod.sum_mat(travsc)\n",
    "            \n",
    "            if (IterAdj.comp(s_Pih, s_Pic, tlr) == False):\n",
    "                ccsi = []   # list to store produced travels coefficients\n",
    "                for ph, pc in zip(s_Pih, s_Pic):\n",
    "                    ccsi.append(round(ph/pc, 3))\n",
    "\n",
    "                for x in range(len(travsc)):\n",
    "                    travsc[x] = [ccsi[x]*item for item in travsc[x]]\n",
    "            \n",
    "                i += 1\n",
    "\n",
    "            # transpose de matrix of computed travels\n",
    "            Ajc = GravitMod.transp_mat(travsc)\n",
    "\n",
    "            # get attracted travels sums on computed travels\n",
    "            s_Ajc = GravitMod.sum_mat(Ajc)\n",
    "            \n",
    "            if (IterAdj.comp(s_Ajh, s_Ajc, tlr) == False):\n",
    "                ccsj = []   # list to store attracted travels coefficients\n",
    "                for ah, ac in zip(s_Ajh, s_Ajc):\n",
    "                    ccsj.append(round(ah/ac, 3))\n",
    "\n",
    "                for x in range(len(Ajc)):\n",
    "                    Ajc[x] = [ccsj[x]*item for item in Ajc[x]]\n",
    "            \n",
    "                j += 1\n",
    "\n",
    "            travsc = GravitMod.transp_mat(Ajc)    # transpose the transposed\n",
    "\n",
    "            # reduced trailing digits\n",
    "            travsc_r = [[], [], []]\n",
    "            for row in range(len(travsc)):\n",
    "                travsc_r[row] = GravitMod.rnd(travsc[row], trail=2)\n",
    "\n",
    "            print(\"Travels matrix (trailing 2 digits) after i = \", i, \"and j = \", j, \"is \", travsc_r)\n",
    "                \n",
    "            # get attracted travels sums on new computed travels matrix\n",
    "            # transpose de matrix of computed travels\n",
    "            Ajc = GravitMod.transp_mat(travsc)\n",
    "\n",
    "            # get attracted travels sums on computed travels\n",
    "            s_Ajc = GravitMod.sum_mat(Ajc)\n",
    "\n",
    "            # update the produced sums\n",
    "            # get produced travels sums on computed travels\n",
    "            s_Pic = GravitMod.sum_mat(travsc)\n",
    "        \n",
    "            cmp_flg = IterAdj.comp(s_Ajh, s_Ajc, tlr)\n",
    "                        \n",
    "            cmp_flg = IterAdj.comp(s_Pih, s_Pic, tlr)\n",
    "            \n",
    "            # round the computed travels\n",
    "            for row in range(len(travsc)):\n",
    "                travsc[row] = GravitMod.rnd(travsc[row])\n",
    "        \n",
    "        return travsc\n",
    "\n",
    "    def iter_adj_fin(travsc, P_is, A_js, tlr=0.01):\n",
    "        \"\"\"\n",
    "        Method to iteratively adjust future travels computed with \n",
    "        gravitational model.\n",
    "        Takes as input the computed ones, in the form of matrices,\n",
    "        the future produced and attracted travels,\n",
    "        and the precision (tolerance) of adjustment.\n",
    "        Returns a matrix with adjusted travels.\n",
    "        \"\"\"\n",
    "    \n",
    "        # get produced travels sums on observed travels\n",
    "        s_Pih = P_is\n",
    "        \n",
    "        # get attracted travels sums on observed travels\n",
    "        s_Ajh = A_js\n",
    "\n",
    "        cmp_flg = False  # comparison flag to govern the following cycle\n",
    "        i = 0   # produced passes counter\n",
    "        j = 0   # attracted passes counter\n",
    "\n",
    "        while(cmp_flg == False):\n",
    "                       \n",
    "            # get produced travels sums on computed travels\n",
    "            s_Pic = GravitMod.sum_mat(travsc)\n",
    "            \n",
    "            if (IterAdj.comp(s_Pih, s_Pic, tlr) == False):\n",
    "                ccsi = []   # list to store produced travels coefficients\n",
    "                for ph, pc in zip(s_Pih, s_Pic):\n",
    "                    ccsi.append(round(ph/pc, 3))\n",
    "\n",
    "                for x in range(len(travsc)):\n",
    "                    travsc[x] = [ccsi[x]*item for item in travsc[x]]\n",
    "            \n",
    "                i += 1\n",
    "\n",
    "            # transpose de matrix of computed travels\n",
    "            Ajc = GravitMod.transp_mat(travsc)\n",
    "\n",
    "            # get attracted travels sums on computed travels\n",
    "            s_Ajc = GravitMod.sum_mat(Ajc)\n",
    "\n",
    "            if (IterAdj.comp(s_Ajh, s_Ajc, tlr) == False):\n",
    "                ccsj = []   # list to store attracted travels coefficients\n",
    "                for ah, ac in zip(s_Ajh, s_Ajc):\n",
    "                    ccsj.append(round(ah/ac, 3))\n",
    "\n",
    "                for x in range(len(Ajc)):\n",
    "                    Ajc[x] = [ccsj[x]*item for item in Ajc[x]]\n",
    "            \n",
    "                j += 1\n",
    "\n",
    "            travsc = GravitMod.transp_mat(Ajc)    # transpose the transposed\n",
    "\n",
    "            # reduced trailing digits\n",
    "            travsc_r = [[], [], []]\n",
    "            for row in range(len(travsc)):\n",
    "                travsc_r[row] = GravitMod.rnd(travsc[row], trail=2)\n",
    "\n",
    "            print(\"Future travels matrix (trailing 2 digits) after i = \", i, \"and j = \", j, \"is \", travsc_r)\n",
    "                \n",
    "            # get attracted travels sums on new computed travels matrix\n",
    "            # transpose de matrix of computed travels\n",
    "            Ajc = GravitMod.transp_mat(travsc)\n",
    "\n",
    "            # get attracted travels sums on computed travels\n",
    "            s_Ajc = GravitMod.sum_mat(Ajc)\n",
    "\n",
    "            # update the produced sums\n",
    "            # get produced travels sums on computed travels\n",
    "            s_Pic = GravitMod.sum_mat(travsc)\n",
    "        \n",
    "            cmp_flg = IterAdj.comp(s_Ajh, s_Ajc, tlr)\n",
    "                        \n",
    "            cmp_flg = IterAdj.comp(s_Pih, s_Pic, tlr)\n",
    "            \n",
    "            # round the computed travels\n",
    "            for row in range(len(travsc)):\n",
    "                travsc[row] = GravitMod.rnd(travsc[row])\n",
    "        \n",
    "        return travsc"
   ]
  },
  {
   "cell_type": "code",
   "execution_count": 14,
   "id": "9ee86d23-e0cf-4e93-b664-d1a44f75dc91",
   "metadata": {},
   "outputs": [
    {
     "name": "stdout",
     "output_type": "stream",
     "text": [
      "Travels matrix (trailing 2 digits) after i =  0 and j =  1 is  [[79.21, 113.68, 101.48], [41.54, 21.11, 40.33], [79.21, 25.17, 48.14]]\n",
      "Travels matrix (trailing 2 digits) after i =  1 and j =  1 is  [[80.58, 116.28, 103.02], [40.78, 20.39, 38.84], [77.97, 24.68, 47.38]]\n",
      "Historical computed and adjusted,  [[81.0, 116.0, 103.0], [41.0, 20.0, 39.0], [78.0, 25.0, 47.0]]\n",
      "Historical travels matrix,  [[40, 110, 150], [50, 20, 30], [110, 30, 10]]\n"
     ]
    }
   ],
   "source": [
    "travsc_adj = IterAdj.iter_adj_in(travs, gvalsr)\n",
    "print(\"Historical computed and adjusted, \", travsc_adj)\n",
    "print(\"Historical travels matrix, \", travs)"
   ]
  },
  {
   "cell_type": "code",
   "execution_count": 15,
   "id": "76df0c0e-ebae-46df-80b9-b841860613e1",
   "metadata": {},
   "outputs": [
    {
     "name": "stdout",
     "output_type": "stream",
     "text": [
      "Travels matrix (trailing 2 digits) after i =  0 and j =  1 is  [[110.58, 66.91], [89.36, 33.04], []]\n",
      "Travels matrix (trailing 2 digits) after i =  1 and j =  1 is  [[112.22, 67.74], [87.58, 32.47], []]\n",
      "Historical computed and adjusted,  [[112.0, 68.0], [88.0, 32.0]]\n",
      "Historical travels matrix,  [[120, 60], [80, 40]]\n"
     ]
    }
   ],
   "source": [
    "travsc_adj_aet = IterAdj.iter_adj_in(travs_aet, gvalsr_aet)\n",
    "print(\"Historical computed and adjusted, \", travsc_adj_aet)\n",
    "print(\"Historical travels matrix, \", travs_aet)"
   ]
  },
  {
   "cell_type": "markdown",
   "id": "d142b992-19fb-42e2-aa14-86ab13b84951",
   "metadata": {},
   "source": [
    "#### Function to compute the calibration coefficients"
   ]
  },
  {
   "cell_type": "code",
   "execution_count": 16,
   "id": "04a31335-a946-4662-ba92-9a5f5ccb3328",
   "metadata": {},
   "outputs": [],
   "source": [
    "def ccoeffs(travs, travsc):\n",
    "    \"\"\"\n",
    "    Function to compute calibration coefficients for Gravitational Model.\n",
    "    Takes as inputs computed-adjusted travels, and observed ones.\n",
    "    Returns a squared matrix with calibration coefficients.\n",
    "    \"\"\"\n",
    "    ccoeffs = []\n",
    "    for row_h, row_c in zip(travs, travsc):\n",
    "        for t_h, t_c in zip(row_h, row_c):\n",
    "            ccoeffs.append(round(t_h / t_c, 2))\n",
    "    \n",
    "    ccoeffs_m = GravitMod.mat_grp(ccoeffs, len(travs))\n",
    "\n",
    "    return ccoeffs_m"
   ]
  },
  {
   "cell_type": "code",
   "execution_count": 17,
   "id": "7fede055-dd2b-4f01-b130-95cc99cc940e",
   "metadata": {},
   "outputs": [
    {
     "name": "stdout",
     "output_type": "stream",
     "text": [
      "Calibration coefficients matrix,  [[0.49, 0.95, 1.46], [1.22, 1.0, 0.77], [1.41, 1.2, 0.21]]\n"
     ]
    }
   ],
   "source": [
    "# get the calibration coeffs\n",
    "cal_coeffs = ccoeffs(travs, travsc_adj)\n",
    "print(\"Calibration coefficients matrix, \", cal_coeffs)"
   ]
  },
  {
   "cell_type": "code",
   "execution_count": 18,
   "id": "57037272-5be0-4776-a803-3f25310e1991",
   "metadata": {},
   "outputs": [
    {
     "name": "stdout",
     "output_type": "stream",
     "text": [
      "Calibration coefficients matrix AET,  [[1.07, 0.88], [0.91, 1.25]]\n"
     ]
    }
   ],
   "source": [
    "# get the calibration coeffs AET\n",
    "cal_coeffs_aet = ccoeffs(travs_aet, travsc_adj_aet)\n",
    "print(\"Calibration coefficients matrix AET, \", cal_coeffs_aet)"
   ]
  },
  {
   "cell_type": "code",
   "execution_count": 19,
   "id": "e0c44985-84c4-4857-91d6-53d875062eaa",
   "metadata": {},
   "outputs": [
    {
     "name": "stdout",
     "output_type": "stream",
     "text": [
      "Future travels computed with Gravitational Model and initial data,  [[111.0, 307.0, 293.0], [328.0, 224.0, 67.0], [394.0, 175.0, 12.0]] \n",
      "\n"
     ]
    }
   ],
   "source": [
    "# call the GravitMod future travels method \n",
    "# with calibration coefficients and future produced, respectively attracted travels\n",
    "gravmod_fin = GravitMod.gravmod_fin(ffs_f, cal_coeffs, P_is, A_js, travs)\n",
    "print(\"Future travels computed with Gravitational Model and initial data, \", gravmod_fin, '\\n')"
   ]
  },
  {
   "cell_type": "code",
   "execution_count": 20,
   "id": "310f8429-cff1-41a0-ade2-9a1b0a4bfa07",
   "metadata": {},
   "outputs": [
    {
     "name": "stdout",
     "output_type": "stream",
     "text": [
      "Sums of produced on future travels,  [711.0, 619.0, 581.0] \n",
      "\n"
     ]
    }
   ],
   "source": [
    "print(\"Sums of produced on future travels, \", GravitMod.sum_mat(gravmod_fin),'\\n')"
   ]
  },
  {
   "cell_type": "code",
   "execution_count": 21,
   "id": "66b9f48f-07b6-4d7d-9773-9f0ea786e62c",
   "metadata": {},
   "outputs": [
    {
     "name": "stdout",
     "output_type": "stream",
     "text": [
      "Sums of attracted on future travels,  [833.0, 706.0, 372.0] \n",
      "\n"
     ]
    }
   ],
   "source": [
    "print(\"Sums of attracted on future travels, \", GravitMod.sum_mat(GravitMod.transp_mat(gravmod_fin)),'\\n')"
   ]
  },
  {
   "cell_type": "code",
   "execution_count": 22,
   "id": "84fd4049-9eab-4518-a3c9-0fe8e8b9cc1b",
   "metadata": {},
   "outputs": [
    {
     "name": "stdout",
     "output_type": "stream",
     "text": [
      "Future travels matrix (trailing 2 digits) after i =  1 and j =  1 is  [[112.77, 375.38, 244.51], [295.96, 243.26, 49.66], [313.4, 167.53, 7.84]]\n",
      "Future travels matrix (trailing 2 digits) after i =  2 and j =  2 is  [[116.75, 382.86, 245.87], [294.48, 238.88, 48.31], [310.44, 164.65, 7.71]]\n",
      "Future travels adjusted,  [[117.0, 383.0, 246.0], [294.0, 239.0, 48.0], [310.0, 165.0, 8.0]] \n",
      "\n"
     ]
    }
   ],
   "source": [
    "gravmod_fin_adj = IterAdj.iter_adj_fin(gravmod_fin, P_is, A_js)\n",
    "print(\"Future travels adjusted, \", gravmod_fin_adj,'\\n')"
   ]
  },
  {
   "cell_type": "code",
   "execution_count": 23,
   "id": "3e49a33c-d687-4553-abbc-a8993dd80f0c",
   "metadata": {},
   "outputs": [
    {
     "name": "stdout",
     "output_type": "stream",
     "text": [
      "Sums of produced on future travels,  [746.0, 581.0, 483.0] \n",
      "\n",
      "Targeted sums of produced,  [750, 580, 480] \n",
      "\n",
      "***** \n",
      "\n",
      "Sums of attracted on future travels,  [721.0, 787.0, 302.0] \n",
      "\n",
      "Targeted sums of attracted,  [722, 786, 302] \n",
      "\n"
     ]
    }
   ],
   "source": [
    "print(\"Sums of produced on future travels, \", GravitMod.sum_mat(gravmod_fin_adj),'\\n')\n",
    "print(\"Targeted sums of produced, \", P_is,'\\n')\n",
    "print(\"*****\", '\\n')\n",
    "print(\"Sums of attracted on future travels, \", GravitMod.sum_mat(GravitMod.transp_mat(gravmod_fin_adj)),'\\n')\n",
    "print(\"Targeted sums of attracted, \", A_js,'\\n')"
   ]
  },
  {
   "cell_type": "markdown",
   "id": "8171a5e1-1f6e-46f2-991b-514d6ce98857",
   "metadata": {},
   "source": [
    "#### Function to determine modal option"
   ]
  },
  {
   "cell_type": "code",
   "execution_count": 24,
   "id": "12757433-7711-4bd0-8cdc-6ccff4e02380",
   "metadata": {},
   "outputs": [],
   "source": [
    "def modopt(tca, tct, tda, tdt):\n",
    "    \"\"\"\n",
    "    Function to compute modal option, i.e. auto and transit.\n",
    "    Takes as inputs the matrices of travels cost, auto and transit, and\n",
    "    duration, respectively.\n",
    "    Returns the utilities of auto and transit travels for each zone to zone\n",
    "    combination.\n",
    "    \"\"\"\n",
    "    \n",
    "    # compute utilities for auto and transit modes\n",
    "    u_a = []    # store auto utility results\n",
    "    u_t = []    # store transit utility results\n",
    "\n",
    "    for i in range(len(tca)):\n",
    "        for ca, da in zip(tca[i], tda[i]):\n",
    "            u_a.append(2.5 - 0.5 * ca - 0.01 * da)\n",
    "        for ct, dt in zip(tct[i], tdt[i]):\n",
    "            u_t.append(-0.4 * ct - 0.012 * dt)\n",
    "\n",
    "    return (GravitMod.rnd(u_a, 4), GravitMod.rnd(u_t, 4))"
   ]
  },
  {
   "cell_type": "code",
   "execution_count": 25,
   "id": "5d3b4fe9-ad05-4633-b7b5-97fe9cf06b09",
   "metadata": {},
   "outputs": [
    {
     "name": "stdout",
     "output_type": "stream",
     "text": [
      "Matrix utilities for auto and transit sub-modes, u_a_mat =  [[2.22, 1.88, 1.73], [1.77, 2.07, 1.71], [1.56, 1.59, 2.11]] and u_t_mat =  [[-0.58, -0.66, -0.944], [-0.9, -0.552, -1.072], [-0.92, -0.852, -0.376]] \n",
      "\n"
     ]
    }
   ],
   "source": [
    "u_a, u_t = modopt(tca, tct, tda, tdt)\n",
    "u_a_mat = GravitMod.mat_grp(u_a, len(tca))\n",
    "u_t_mat = GravitMod.mat_grp(u_t, len(tct))\n",
    "print(\"Matrix utilities for auto and transit sub-modes, u_a_mat = \", u_a_mat, \"and u_t_mat = \", u_t_mat, '\\n')"
   ]
  },
  {
   "cell_type": "code",
   "execution_count": 26,
   "id": "f74f9091-aeaf-4c8b-b6c0-2f5e0ae84339",
   "metadata": {},
   "outputs": [
    {
     "name": "stdout",
     "output_type": "stream",
     "text": [
      "Matrix utilities for auto and transit sub-modes, AET, u_a_aet_mat =  [[2.22, 2.16], [1.99, 1.42]] and u_t_aet_mat =  [[-0.58, -0.672], [-0.672, -0.712]] \n",
      "\n"
     ]
    }
   ],
   "source": [
    "u_a_aet, u_t_aet = modopt(tca_aet, tct_aet, tda_aet, tdt_aet)\n",
    "u_a_aet_mat = GravitMod.mat_grp(u_a_aet, len(tca_aet))\n",
    "u_t_aet_mat = GravitMod.mat_grp(u_t_aet, len(tct_aet))\n",
    "print(\"Matrix utilities for auto and transit sub-modes, AET, u_a_aet_mat = \", u_a_aet_mat, \"and u_t_aet_mat = \", u_t_aet_mat, '\\n')"
   ]
  },
  {
   "cell_type": "markdown",
   "id": "ef1f642b-08fb-457e-a49c-2f587acc349f",
   "metadata": {},
   "source": [
    "#### Function to compute auto and transit weights, from to each zone"
   ]
  },
  {
   "cell_type": "code",
   "execution_count": 27,
   "id": "62b7d0f2-02c4-4fff-bdbb-9b08130377f4",
   "metadata": {},
   "outputs": [],
   "source": [
    "def logit(u_a, u_t):\n",
    "    \"\"\"\n",
    "    Function to compute travels weights for each zone.\n",
    "    Takes as inputs the utilities lists, auto and transit.\n",
    "    Returns auto and transit weights for each zone to zone combination.\n",
    "    \"\"\"\n",
    "    # import to get Euler number\n",
    "    from math import e\n",
    "    \n",
    "    w_a = []    # store auto weights\n",
    "    w_t = []    # store transit weights\n",
    "    for u_a, u_t in zip(u_a, u_t):\n",
    "        w_i = e**u_a / (e**u_a + e**u_t)\n",
    "        w_a.append(round(w_i, 2))\n",
    "        w_t.append(round(1-w_i, 2))\n",
    "\n",
    "    return (w_a, w_t)"
   ]
  },
  {
   "cell_type": "code",
   "execution_count": 28,
   "id": "982be5e9-aa23-4ef2-870d-3f6258148bf6",
   "metadata": {},
   "outputs": [
    {
     "name": "stdout",
     "output_type": "stream",
     "text": [
      "Weights for each zone,  \n",
      " AUTO  [[0.94, 0.93, 0.94], [0.94, 0.93, 0.94], [0.92, 0.92, 0.92]] \n",
      " TRAN  [[0.06, 0.07, 0.06], [0.06, 0.07, 0.06], [0.08, 0.08, 0.08]]\n"
     ]
    }
   ],
   "source": [
    "w_a, w_t = logit(u_a, u_t)\n",
    "w_a_mat = GravitMod.mat_grp(w_a, len(travs))\n",
    "w_t_mat = GravitMod.mat_grp(w_t, len(travs))\n",
    "print(\"Weights for each zone, \", '\\n', \"AUTO \", w_a_mat, '\\n',\"TRAN \", w_t_mat)"
   ]
  },
  {
   "cell_type": "code",
   "execution_count": 31,
   "id": "50eaed50-f908-4f50-9c61-285dbb462c66",
   "metadata": {},
   "outputs": [
    {
     "name": "stdout",
     "output_type": "stream",
     "text": [
      "Weights for each zone, AET,  \n",
      " AUTO  [[0.94, 0.94], [0.93, 0.89]] \n",
      " TRAN  [[0.06, 0.06], [0.07, 0.11]]\n"
     ]
    }
   ],
   "source": [
    "w_a_aet, w_t_aet = logit(u_a_aet, u_t_aet)\n",
    "# print(w_a_aet)\n",
    "w_a_aet_mat = GravitMod.mat_grp(w_a_aet, len(travs_aet))\n",
    "w_t_aet_mat = GravitMod.mat_grp(w_t_aet, len(travs_aet))\n",
    "print(\"Weights for each zone, AET, \", '\\n', \"AUTO \", w_a_aet_mat, '\\n',\"TRAN \", w_t_aet_mat)"
   ]
  },
  {
   "cell_type": "code",
   "execution_count": 30,
   "id": "90638280-0c45-45ab-805e-c6ae4c93ce9f",
   "metadata": {},
   "outputs": [
    {
     "name": "stdout",
     "output_type": "stream",
     "text": [
      "Auto travels matrix, AET,  [[113.0, 56.0], [74.0, 36.0]] \n",
      "\n",
      "Transit travels matrix, AET,  [[7.0, 4.0], [6.0, 4.0]] \n",
      "\n"
     ]
    }
   ],
   "source": [
    "# allocate AET matrix travels on sub-modes\n",
    "travs_auto_aet_raw = []\n",
    "for row_t, row_a in zip(travs_aet, w_a_aet_mat):\n",
    "    for travel, aweight in zip(row_t, row_a):\n",
    "        travs_auto_aet_raw.append(travel * aweight)\n",
    "\n",
    "travs_auto_aet = GravitMod.rnd(travs_auto_aet_raw)\n",
    "travs_auto_aet_mat = GravitMod.mat_grp(travs_auto_aet, len(travs_aet))\n",
    "\n",
    "travs_trans_aet_raw = []\n",
    "for row_t, row_ta in zip(travs_aet, travs_auto_aet_mat):\n",
    "    for t, ta in zip(row_t, row_ta):\n",
    "        travs_trans_aet_raw.append(t - ta)\n",
    "\n",
    "travs_trans_aet_mat = GravitMod.mat_grp(travs_trans_aet_raw, len(travs_aet))\n",
    "\n",
    "print(\"Auto travels matrix, AET, \", travs_auto_aet_mat,'\\n')\n",
    "print(\"Transit travels matrix, AET, \", travs_trans_aet_mat,'\\n')"
   ]
  },
  {
   "cell_type": "code",
   "execution_count": null,
   "id": "07b98f80-721f-4696-a8ec-846e92cf5ba2",
   "metadata": {},
   "outputs": [],
   "source": []
  }
 ],
 "metadata": {
  "kernelspec": {
   "display_name": "Python [conda env:base] *",
   "language": "python",
   "name": "conda-base-py"
  },
  "language_info": {
   "codemirror_mode": {
    "name": "ipython",
    "version": 3
   },
   "file_extension": ".py",
   "mimetype": "text/x-python",
   "name": "python",
   "nbconvert_exporter": "python",
   "pygments_lexer": "ipython3",
   "version": "3.12.7"
  }
 },
 "nbformat": 4,
 "nbformat_minor": 5
}
